{
 "cells": [
  {
   "cell_type": "markdown",
   "id": "24cb210d",
   "metadata": {},
   "source": [
    "# NUMPY Array Operations"
   ]
  },
  {
   "cell_type": "code",
   "execution_count": 3,
   "id": "de1d25ea",
   "metadata": {},
   "outputs": [],
   "source": [
    "import numpy as np"
   ]
  },
  {
   "cell_type": "code",
   "execution_count": 3,
   "id": "c2e732bb",
   "metadata": {},
   "outputs": [
    {
     "name": "stdout",
     "output_type": "stream",
     "text": [
      "Basic Slicing:  [3 4 5 6 7]\n",
      "Basic Step:  [2 4 6 8]\n",
      "Negative indexing:  [6 7 8 9]\n"
     ]
    }
   ],
   "source": [
    "arr = np.array([1,2,3,4,5,6,7,8,9,10])\n",
    "print(\"Basic Slicing: \", arr[2:7])\n",
    "print(\"Basic Step: \", arr[1:9:2])\n",
    "print(\"Negative indexing: \", arr[-5:-1])"
   ]
  },
  {
   "cell_type": "code",
   "execution_count": 8,
   "id": "ca0ca7e9",
   "metadata": {},
   "outputs": [
    {
     "name": "stdout",
     "output_type": "stream",
     "text": [
      "Specific Element:  3\n",
      "Specific Row:  [4 5 6]\n",
      "Specific Column:  [1 4 7]\n"
     ]
    }
   ],
   "source": [
    "arr_2d=np.array([[1,2,3],\n",
    "               [4,5,6],\n",
    "               [7,8,9]])\n",
    "\n",
    "print(\"Specific Element: \", arr_2d[0,2])\n",
    "print(\"Specific Row: \", arr_2d[1])\n",
    "print(\"Specific Column: \", arr_2d[:,0])"
   ]
  },
  {
   "cell_type": "markdown",
   "id": "8918d63b",
   "metadata": {},
   "source": [
    "## Sorting"
   ]
  },
  {
   "cell_type": "code",
   "execution_count": 7,
   "id": "fdf4d1bf",
   "metadata": {},
   "outputs": [
    {
     "name": "stdout",
     "output_type": "stream",
     "text": [
      "sorted array:  [ 1  2  2  3  4  8 53]\n",
      "Sorted 2D Array by column-wise:  [[1 1]\n",
      " [2 2]\n",
      " [3 3]]\n",
      "Sorted 2D Array by row-wise:  [[1 3]\n",
      " [1 2]\n",
      " [2 3]]\n"
     ]
    }
   ],
   "source": [
    "unsorted = np.array([2,4,1,8,3,53,2,])\n",
    "print(\"sorted array: \", np.sort(unsorted))\n",
    "\n",
    "arr_2d_unsorted= np.array([[3,1],\n",
    "                           [1,2],\n",
    "                           [2,3]])\n",
    "\n",
    "print(\"Sorted 2D Array by column-wise: \", np.sort(arr_2d_unsorted,axis=0))      # columwise 2d array sorting\n",
    "print(\"Sorted 2D Array by row-wise: \", np.sort(arr_2d_unsorted,axis=1))         # rowwise 2d array sorting"
   ]
  },
  {
   "cell_type": "markdown",
   "id": "b8365022",
   "metadata": {},
   "source": [
    "## Filter"
   ]
  },
  {
   "cell_type": "code",
   "execution_count": 4,
   "id": "bad4f893",
   "metadata": {},
   "outputs": [
    {
     "name": "stdout",
     "output_type": "stream",
     "text": [
      "even numbers:  [ 2  4  6  8 10]\n"
     ]
    }
   ],
   "source": [
    "numbers = np.array([1,2,3,4,5,6,7,8,9,10])\n",
    "even_number = numbers[numbers % 2 == 0]\n",
    "print(\"even numbers: \", even_number)"
   ]
  },
  {
   "cell_type": "markdown",
   "id": "145ac17f",
   "metadata": {},
   "source": [
    "## Filter with Mask"
   ]
  },
  {
   "cell_type": "code",
   "execution_count": null,
   "id": "091c2030",
   "metadata": {},
   "outputs": [
    {
     "name": "stdout",
     "output_type": "stream",
     "text": [
      "numbers less than 5:  [1 1]\n"
     ]
    }
   ],
   "source": [
    "mask = arr_2d_unsorted < 3\n",
    "print(\"numbers less than 5: \", arr_2d_unsorted[mask])"
   ]
  },
  {
   "cell_type": "markdown",
   "id": "39df118c",
   "metadata": {},
   "source": [
    "## Fancy indexing vs np.where()"
   ]
  },
  {
   "cell_type": "code",
   "execution_count": null,
   "id": "97836ebb",
   "metadata": {},
   "outputs": [
    {
     "name": "stdout",
     "output_type": "stream",
     "text": [
      "[1 3 5]\n",
      "[ 6  7  8  9 10]\n"
     ]
    }
   ],
   "source": [
    "indexing = [0,2,4]\n",
    "print(numbers[indexing])\n",
    "\n",
    "where_number = np.where(numbers >5 )\n",
    "print(numbers[where_number])"
   ]
  },
  {
   "cell_type": "code",
   "execution_count": 18,
   "id": "fff2714c",
   "metadata": {},
   "outputs": [
    {
     "name": "stdout",
     "output_type": "stream",
     "text": [
      "[ 5 10 15 20 25 12 14 16 18 20]\n"
     ]
    }
   ],
   "source": [
    "condition_array = np.where(numbers>5,numbers*2,numbers*5)\n",
    "print(condition_array)"
   ]
  },
  {
   "cell_type": "markdown",
   "id": "271ff2a5",
   "metadata": {},
   "source": [
    "## Adding and Removing data"
   ]
  },
  {
   "cell_type": "code",
   "execution_count": null,
   "id": "6d884beb",
   "metadata": {},
   "outputs": [
    {
     "name": "stdout",
     "output_type": "stream",
     "text": [
      "full array:  [1 2 3 4 5 6]\n"
     ]
    }
   ],
   "source": [
    "arr1=[1,2,3]\n",
    "arr2=[4,5,6]\n",
    "\n",
    "print(\"full array: \", np.concatenate((arr1,arr2)))"
   ]
  },
  {
   "cell_type": "markdown",
   "id": "b52b5b62",
   "metadata": {},
   "source": [
    "## Array Compatibility"
   ]
  },
  {
   "cell_type": "code",
   "execution_count": 24,
   "id": "b58acc31",
   "metadata": {},
   "outputs": [
    {
     "name": "stdout",
     "output_type": "stream",
     "text": [
      "compatibility shapes:  True\n",
      "compatibility shapes:  False\n"
     ]
    }
   ],
   "source": [
    "a=np.array([1,2,3])\n",
    "b=np.array([4,5,6])\n",
    "c=np.array([7,8,9,10])\n",
    "\n",
    "print(\"compatibility shapes: \", a.shape == b.shape)\n",
    "print(\"compatibility shapes: \", a.shape == c.shape)"
   ]
  },
  {
   "cell_type": "markdown",
   "id": "fad88165",
   "metadata": {},
   "source": [
    "## Add New Columns and Rows"
   ]
  },
  {
   "cell_type": "code",
   "execution_count": null,
   "id": "83147127",
   "metadata": {},
   "outputs": [
    {
     "name": "stdout",
     "output_type": "stream",
     "text": [
      "Original Row:  [[1 2]\n",
      " [3 4]]\n",
      "[[1 2]\n",
      " [3 4]\n",
      " [5 6]]\n",
      "[[1 2 7]\n",
      " [3 4 8]]\n"
     ]
    }
   ],
   "source": [
    "original=np.array([[1,2],\n",
    "                   [3,4]])\n",
    "new_row=np.array([[5,6]])\n",
    "new_col=np.array([[7],[8]])\n",
    "\n",
    "print(\"Original Row: \", original)\n",
    "\n",
    "add_new_row=np.vstack((original,new_row))\n",
    "print(add_new_row)\n",
    "\n",
    "add_new_column=np.hstack((original,new_col))\n",
    "print(add_new_column)"
   ]
  },
  {
   "cell_type": "markdown",
   "id": "9a77ecb9",
   "metadata": {},
   "source": [
    "## Delete Operation"
   ]
  },
  {
   "cell_type": "code",
   "execution_count": 34,
   "id": "d850dca1",
   "metadata": {},
   "outputs": [
    {
     "name": "stdout",
     "output_type": "stream",
     "text": [
      "[ 1  2  9 10]\n"
     ]
    }
   ],
   "source": [
    "ar=np.array([1,2,3,4,5,6,7,8,9,10])\n",
    "mask_array=[2,3,4,5,6,7]\n",
    "deleted=np.delete(ar,mask_array)\n",
    "print(deleted)"
   ]
  }
 ],
 "metadata": {
  "kernelspec": {
   "display_name": ".venv",
   "language": "python",
   "name": "python3"
  },
  "language_info": {
   "codemirror_mode": {
    "name": "ipython",
    "version": 3
   },
   "file_extension": ".py",
   "mimetype": "text/x-python",
   "name": "python",
   "nbconvert_exporter": "python",
   "pygments_lexer": "ipython3",
   "version": "3.13.3"
  }
 },
 "nbformat": 4,
 "nbformat_minor": 5
}
