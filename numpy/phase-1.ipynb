{
 "cells": [
  {
   "cell_type": "markdown",
   "id": "7126f1c9",
   "metadata": {},
   "source": [
    "# Numpy array and basics\n",
    "### learn about numpy"
   ]
  },
  {
   "cell_type": "code",
   "execution_count": 2,
   "id": "0385655c",
   "metadata": {},
   "outputs": [],
   "source": [
    "import numpy as np"
   ]
  },
  {
   "cell_type": "markdown",
   "id": "677158fc",
   "metadata": {},
   "source": [
    "### Numpy version"
   ]
  },
  {
   "cell_type": "code",
   "execution_count": 4,
   "id": "e94109ed",
   "metadata": {},
   "outputs": [
    {
     "data": {
      "text/plain": [
       "'2.2.5'"
      ]
     },
     "execution_count": 4,
     "metadata": {},
     "output_type": "execute_result"
    }
   ],
   "source": [
    "np.__version__"
   ]
  },
  {
   "cell_type": "markdown",
   "id": "d3cfac09",
   "metadata": {},
   "source": [
    "### Memory Size"
   ]
  },
  {
   "cell_type": "code",
   "execution_count": 5,
   "id": "9284d731",
   "metadata": {},
   "outputs": [
    {
     "name": "stdout",
     "output_type": "stream",
     "text": [
      "152\n"
     ]
    }
   ],
   "source": [
    "vec=np.array([1,2,3,4,5])\n",
    "print(vec.__sizeof__())"
   ]
  },
  {
   "cell_type": "markdown",
   "id": "36a6165a",
   "metadata": {},
   "source": [
    "### creating array from list"
   ]
  },
  {
   "cell_type": "code",
   "execution_count": 6,
   "id": "481b2374",
   "metadata": {},
   "outputs": [
    {
     "name": "stdout",
     "output_type": "stream",
     "text": [
      "the 1d array : [1 2 3 4 5]\n",
      "the 2d array : [[1 2 3]\n",
      " [4 5 6]]\n"
     ]
    }
   ],
   "source": [
    "arr_1d=np.array([1,2,3,4,5])\n",
    "print(\"the 1d array :\",arr_1d)\n",
    "\n",
    "arr_2d=np.array([[1,2,3],[4,5,6]])\n",
    "print(\"the 2d array :\",arr_2d)"
   ]
  },
  {
   "cell_type": "markdown",
   "id": "c297d5af",
   "metadata": {},
   "source": [
    "### python_list vs numpy_array"
   ]
  },
  {
   "cell_type": "code",
   "execution_count": 12,
   "id": "aeddea45",
   "metadata": {},
   "outputs": [
    {
     "name": "stdout",
     "output_type": "stream",
     "text": [
      "Python list multiplication [1, 2, 3, 4, 5, 1, 2, 3, 4, 5]\n",
      "Numpy array multiplication [ 2  4  6  8 10]\n",
      "\n",
      " list operational time : 0.18491291999816895\n",
      "\n",
      " numpy operational time : 0.014394283294677734\n"
     ]
    }
   ],
   "source": [
    "py_list=[1,2,3,4,5]\n",
    "print(\"Python list multiplication\", py_list*2)\n",
    "\n",
    "np_array=np.array([1,2,3,4,5])\n",
    "print(\"Numpy array multiplication\", np_array*2)\n",
    "import time as tm\n",
    "\n",
    "start = tm.time()\n",
    "pyn_list=[i*2 for i in range(1000000)]\n",
    "print(\"\\n list operational time :\", tm.time()-start)\n",
    "\n",
    "\n",
    "start=tm.time()\n",
    "npy_array=np.arange(1000000)*2\n",
    "print(\"\\n numpy operational time :\", tm.time()-start)\n"
   ]
  },
  {
   "cell_type": "markdown",
   "id": "85d1f24d",
   "metadata": {},
   "source": [
    "### creating array from scratch"
   ]
  },
  {
   "cell_type": "code",
   "execution_count": null,
   "id": "94c5baa9",
   "metadata": {},
   "outputs": [
    {
     "name": "stdout",
     "output_type": "stream",
     "text": [
      "zeros array: \n",
      " [[0. 0. 0.]\n",
      " [0. 0. 0.]\n",
      " [0. 0. 0.]\n",
      " [0. 0. 0.]]\n",
      "ones array: \n",
      " [[1. 1. 1. 1.]\n",
      " [1. 1. 1. 1.]\n",
      " [1. 1. 1. 1.]]\n",
      "constant array values: \n",
      " [[7 7]\n",
      " [7 7]]\n",
      "random numbers array:  [[99.36516657 48.10823647 55.62389221]\n",
      " [13.92794463 78.72151067 40.06765779]]\n",
      "sequence array:  [ 0  4  8 12 16]\n"
     ]
    }
   ],
   "source": [
    "arr_zeros=np.zeros((4,3))\n",
    "print(\"zeros array: \\n\", arr_zeros)     # zeros array\n",
    "\n",
    "arr_ones=np.ones((3,4))\n",
    "print(\"ones array: \\n\", arr_ones)       # ones array\n",
    "\n",
    "arr_const_value=np.full((2,2),7)\n",
    "print(\"constant array values: \\n\", arr_const_value)   # conatant number array\n",
    "\n",
    "random_num=np.random.random((2,3))*100\n",
    "print(\"random numbers array: \", random_num)           # random numbers array\n",
    "\n",
    "sequence=np.arange(1,30,4)\n",
    "print(\"sequence array: \", sequence)                   #sequence array"
   ]
  },
  {
   "cell_type": "markdown",
   "id": "f4d1ff76",
   "metadata": {},
   "source": [
    "### Vector , Matrices and Tensor"
   ]
  },
  {
   "cell_type": "code",
   "execution_count": 11,
   "id": "0f337420",
   "metadata": {},
   "outputs": [
    {
     "name": "stdout",
     "output_type": "stream",
     "text": [
      "vector:  [1 2 3 4 5]\n",
      "matrices: \n",
      " [[1 2 3]\n",
      " [3 4 5]\n",
      " [5 6 7]]\n",
      "tensor: \n",
      " [[[1 2]\n",
      "  [3 4]]\n",
      "\n",
      " [[5 6]\n",
      "  [7 8]]]\n"
     ]
    }
   ],
   "source": [
    "vector = np.array([1,2,3,4,5])\n",
    "print(\"vector: \", vector)\n",
    "\n",
    "matrices= np.array([[1,2,3],\n",
    "                    [3,4,5],\n",
    "                    [5,6,7]])\n",
    "print(\"matrices: \\n\", matrices)\n",
    "\n",
    "tensor =  np.array([[[1,2],[3,4]],\n",
    "                    [[5,6],[7,8]]])\n",
    "print(\"tensor: \\n\", tensor)\n"
   ]
  },
  {
   "cell_type": "markdown",
   "id": "873978bc",
   "metadata": {},
   "source": [
    "###  Array Properties"
   ]
  },
  {
   "cell_type": "code",
   "execution_count": 12,
   "id": "9b001941",
   "metadata": {},
   "outputs": [
    {
     "name": "stdout",
     "output_type": "stream",
     "text": [
      "shape:  (2, 3)\n",
      "dimension:  2\n",
      "size:  6\n",
      "Data_type:  int64\n"
     ]
    }
   ],
   "source": [
    "arr= np.array([[1,2,3],\n",
    "               [4,5,6]])\n",
    "print(\"shape: \", arr.shape)       # how many rows and column\n",
    "print(\"dimension: \", arr.ndim)        # dimension\n",
    "print(\"size: \", arr.size)        # array size\n",
    "print(\"Data_type: \", arr.dtype)       # array datatype"
   ]
  },
  {
   "cell_type": "markdown",
   "id": "b6c8887c",
   "metadata": {},
   "source": [
    "### Array Reshaping"
   ]
  },
  {
   "cell_type": "code",
   "execution_count": 18,
   "id": "89c3113b",
   "metadata": {},
   "outputs": [
    {
     "name": "stdout",
     "output_type": "stream",
     "text": [
      "Original Array:  [ 0  1  2  3  4  5  6  7  8  9 10 11]\n",
      "Reshaped Array: \n",
      " [[ 0  1  2  3]\n",
      " [ 4  5  6  7]\n",
      " [ 8  9 10 11]]\n",
      "flattened Array: \n",
      " [ 0  1  2  3  4  5  6  7  8  9 10 11]\n",
      "raveled Array: \n",
      " [ 0  1  2  3  4  5  6  7  8  9 10 11]\n",
      "transposed Array: \n",
      " [[ 0  4  8]\n",
      " [ 1  5  9]\n",
      " [ 2  6 10]\n",
      " [ 3  7 11]]\n"
     ]
    }
   ],
   "source": [
    "arr = np.arange(12)\n",
    "print(\"Original Array: \", arr)\n",
    "\n",
    "reshaped = arr.reshape((3,4))\n",
    "print(\"Reshaped Array: \\n\", reshaped)\n",
    "\n",
    "flattened = reshaped.flatten()\n",
    "print(\"flattened Array: \\n\", flattened)\n",
    "\n",
    "# ravel (returns view, instead of copy)\n",
    "raveled = reshaped.ravel()\n",
    "print(\"raveled Array: \\n\", raveled)\n",
    "\n",
    "#Transpose\n",
    "transpose = reshaped.T\n",
    "print(\"transposed Array: \\n\", transpose)\n"
   ]
  }
 ],
 "metadata": {
  "kernelspec": {
   "display_name": ".venv",
   "language": "python",
   "name": "python3"
  },
  "language_info": {
   "codemirror_mode": {
    "name": "ipython",
    "version": 3
   },
   "file_extension": ".py",
   "mimetype": "text/x-python",
   "name": "python",
   "nbconvert_exporter": "python",
   "pygments_lexer": "ipython3",
   "version": "3.13.3"
  }
 },
 "nbformat": 4,
 "nbformat_minor": 5
}
