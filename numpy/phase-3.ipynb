{
 "cells": [
  {
   "cell_type": "code",
   "execution_count": null,
   "id": "a20a2c91",
   "metadata": {},
   "outputs": [],
   "source": [
    "import numpy as np\n",
    "import matplotlib.pyplot as plt"
   ]
  },
  {
   "cell_type": "markdown",
   "id": "0547bb8f",
   "metadata": {},
   "source": [
    "# Data Structure :[Restaurant_id,2021,2022,2023,2024]"
   ]
  },
  {
   "cell_type": "code",
   "execution_count": null,
   "id": "deaf49b8",
   "metadata": {},
   "outputs": [],
   "source": [
    "sales_data "
   ]
  }
 ],
 "metadata": {
  "kernelspec": {
   "display_name": ".venv",
   "language": "python",
   "name": "python3"
  },
  "language_info": {
   "codemirror_mode": {
    "name": "ipython",
    "version": 3
   },
   "file_extension": ".py",
   "mimetype": "text/x-python",
   "name": "python",
   "nbconvert_exporter": "python",
   "pygments_lexer": "ipython3",
   "version": "3.13.3"
  }
 },
 "nbformat": 4,
 "nbformat_minor": 5
}
