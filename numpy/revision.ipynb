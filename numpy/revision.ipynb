{
 "cells": [
  {
   "cell_type": "markdown",
   "id": "ba086d71",
   "metadata": {},
   "source": [
    "# Revision \n",
    "## phase-1"
   ]
  },
  {
   "cell_type": "code",
   "execution_count": 1,
   "id": "98b97d1e",
   "metadata": {},
   "outputs": [],
   "source": [
    "import numpy as np\n",
    "import time as tm"
   ]
  },
  {
   "cell_type": "code",
   "execution_count": null,
   "id": "dd99e90f",
   "metadata": {},
   "outputs": [
    {
     "name": "stdout",
     "output_type": "stream",
     "text": [
      "[1 2 3 4 5]\n",
      "[[1 2 3]\n",
      " [4 5 6]\n",
      " [7 8 9]]\n"
     ]
    }
   ],
   "source": [
    "arr_1d=np.array([1,2,3,4,5])\n",
    "print(arr_1d)\n",
    "print(\"operational time: \",)\n",
    "arr_2d=np.array([[1,2,3],\n",
    "                 [4,5,6],\n",
    "                 [7,8,9]])\n",
    "print(arr_2d)"
   ]
  },
  {
   "cell_type": "code",
   "execution_count": 7,
   "id": "89220f64",
   "metadata": {},
   "outputs": [
    {
     "name": "stdout",
     "output_type": "stream",
     "text": [
      "python list compute time:  0.42364954948425293\n",
      "numpy array compute time:  0.01415872573852539\n"
     ]
    }
   ],
   "source": [
    "start=tm.time()\n",
    "py_list=[i for i in range(1000000)]\n",
    "print(\"python list compute time: \", tm.time()-start)\n",
    "\n",
    "start=tm.time()\n",
    "py_array=np.arange(1000000)\n",
    "print(\"numpy array compute time: \", tm.time()-start)"
   ]
  },
  {
   "cell_type": "code",
   "execution_count": 3,
   "id": "1226e052",
   "metadata": {},
   "outputs": [
    {
     "name": "stdout",
     "output_type": "stream",
     "text": [
      "[1 2 3 4 5]\n",
      "[[1 2]\n",
      " [3 4]\n",
      " [5 6]]\n",
      "[[[1]\n",
      "  [2]]\n",
      "\n",
      " [[3]\n",
      "  [4]]]\n"
     ]
    }
   ],
   "source": [
    "ar_1d=np.array([1,2,3,4,5])\n",
    "ar_2d=np.array([[1,2],\n",
    "                   [3,4],\n",
    "                   [5,6]])\n",
    "tensor=np.array([[[1],[2]],\n",
    "                 [[3],[4]]])\n",
    "print(ar_1d)\n",
    "print(ar_2d)\n",
    "print(tensor)"
   ]
  },
  {
   "cell_type": "code",
   "execution_count": 5,
   "id": "7da27b25",
   "metadata": {},
   "outputs": [
    {
     "name": "stdout",
     "output_type": "stream",
     "text": [
      "(3, 3)\n",
      "2\n",
      "9\n",
      "int64\n"
     ]
    }
   ],
   "source": [
    "b=np.array([[1,2,3],\n",
    "            [4,5,6],\n",
    "            [7,8,9]])\n",
    "\n",
    "print(b.shape)\n",
    "print(b.ndim)\n",
    "print(b.size)\n",
    "print(b.dtype)"
   ]
  },
  {
   "cell_type": "code",
   "execution_count": 11,
   "id": "0e0e0156",
   "metadata": {},
   "outputs": [
    {
     "name": "stdout",
     "output_type": "stream",
     "text": [
      "[ 0  1  2  3  4  5  6  7  8  9 10 11 12 13 14]\n",
      "[[ 0  1  2]\n",
      " [ 3  4  5]\n",
      " [ 6  7  8]\n",
      " [ 9 10 11]\n",
      " [12 13 14]]\n",
      "[ 0  1  2  3  4  5  6  7  8  9 10 11 12 13 14]\n",
      "[ 0  1  2  3  4  5  6  7  8  9 10 11 12 13 14]\n",
      "[[ 0  3  6  9 12]\n",
      " [ 1  4  7 10 13]\n",
      " [ 2  5  8 11 14]]\n"
     ]
    }
   ],
   "source": [
    "c=np.arange(15)\n",
    "print(c)\n",
    "d=c.reshape(5,3)\n",
    "print(c.reshape(5,3))\n",
    "print(d.flatten())\n",
    "print(d.ravel())\n",
    "print(d.T)"
   ]
  },
  {
   "cell_type": "markdown",
   "id": "3c3dac93",
   "metadata": {},
   "source": [
    "# Revision\n",
    "## phase-2"
   ]
  },
  {
   "cell_type": "code",
   "execution_count": 12,
   "id": "5162a539",
   "metadata": {},
   "outputs": [
    {
     "name": "stdout",
     "output_type": "stream",
     "text": [
      "[5 6 7 8]\n",
      "[ 7  9 11]\n",
      "[ 4  5  6  7  8  9 10]\n"
     ]
    }
   ],
   "source": [
    "print(c[5:9])\n",
    "print(c[7:12:2])\n",
    "print(c[-11:-4])"
   ]
  },
  {
   "cell_type": "code",
   "execution_count": 15,
   "id": "44360058",
   "metadata": {},
   "outputs": [
    {
     "name": "stdout",
     "output_type": "stream",
     "text": [
      "7\n",
      "[12 13 14]\n",
      "[ 2  5  8 11 14]\n"
     ]
    }
   ],
   "source": [
    "print(d[(2,1)])\n",
    "print(d[4])\n",
    "print(d[:,2])"
   ]
  },
  {
   "cell_type": "code",
   "execution_count": 20,
   "id": "9b3008e2",
   "metadata": {},
   "outputs": [
    {
     "name": "stdout",
     "output_type": "stream",
     "text": [
      "[2 2 3 4 5 8]\n",
      "[[2 6]\n",
      " [2 5]\n",
      " [3 7]]\n",
      "[[2 2]\n",
      " [5 3]\n",
      " [7 6]]\n"
     ]
    }
   ],
   "source": [
    "unsorted=np.array([2,5,8,3,2,4])\n",
    "e=np.array([[2,6],\n",
    "            [5,2],\n",
    "            [7,3]])\n",
    "print(np.sort(unsorted))\n",
    "print(np.sort(e,axis=1))\n",
    "print(np.sort(e,axis=0))"
   ]
  },
  {
   "cell_type": "code",
   "execution_count": null,
   "id": "5f1c0872",
   "metadata": {},
   "outputs": [
    {
     "name": "stdout",
     "output_type": "stream",
     "text": [
      "[ 0  2  4  6  8 10 12 14 16 18]\n",
      "[ 5  6  7  8  9 10 11 12 13 14 15 16 17 18 19]\n"
     ]
    }
   ],
   "source": [
    "numbers=np.arange(20)\n",
    "print(numbers[numbers%2==0])\n",
    "\n",
    "mask=numbers>4\n",
    "print(numbers[mask])"
   ]
  },
  {
   "cell_type": "code",
   "execution_count": 3,
   "id": "11286172",
   "metadata": {},
   "outputs": [
    {
     "name": "stdout",
     "output_type": "stream",
     "text": [
      "[0. 0. 0. 0. 0. 0. 0. 0. 0. 0.]\n"
     ]
    }
   ],
   "source": [
    "null_vec=np.zeros(10)\n",
    "print(null_vec)"
   ]
  },
  {
   "cell_type": "code",
   "execution_count": 6,
   "id": "fad8fc5e",
   "metadata": {},
   "outputs": [
    {
     "name": "stdout",
     "output_type": "stream",
     "text": [
      "192\n"
     ]
    }
   ],
   "source": [
    "print(null_vec.__sizeof__())"
   ]
  }
 ],
 "metadata": {
  "kernelspec": {
   "display_name": ".venv",
   "language": "python",
   "name": "python3"
  },
  "language_info": {
   "codemirror_mode": {
    "name": "ipython",
    "version": 3
   },
   "file_extension": ".py",
   "mimetype": "text/x-python",
   "name": "python",
   "nbconvert_exporter": "python",
   "pygments_lexer": "ipython3",
   "version": "3.13.3"
  }
 },
 "nbformat": 4,
 "nbformat_minor": 5
}
